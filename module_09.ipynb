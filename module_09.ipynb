{
 "cells": [
  {
   "cell_type": "code",
   "execution_count": 1,
   "id": "68deb1fc",
   "metadata": {},
   "outputs": [],
   "source": [
    "import numpy as np"
   ]
  },
  {
   "cell_type": "code",
   "execution_count": 2,
   "id": "fb06bb57",
   "metadata": {},
   "outputs": [],
   "source": [
    "arr = np.array([1, 2, 3, 4, 5])\n",
    "random_arr = np.random.rand(5, 5)\n",
    "result = arr + random_arr\n",
    "result = result * 2\n",
    "dot_product = np.dot(arr, random_arr)"
   ]
  },
  {
   "cell_type": "code",
   "execution_count": null,
   "id": "83008976",
   "metadata": {},
   "outputs": [],
   "source": [
    "import pandas as pd\n",
    "data = {'nome': ['Alice', 'Bob', 'Charlie'],\n",
    "        'eta': [25, 30, 35]}\n",
    "df = pd.DataFrame(data)\n",
    "\n",
    "ages = df['eta']\n",
    "filtered_data = df[df['eta'] > 30]"
   ]
  },
  {
   "cell_type": "code",
   "execution_count": null,
   "id": "eaf9cf6e",
   "metadata": {},
   "outputs": [],
   "source": [
    "import matplotlib.pyplot as plt\n",
    "# creazione di dati\n",
    "x = [1, 2, 3, 4, 5]\n",
    "y = [10, 12, 5, 8, 20]\n",
    "plt.scatter(x, y)\n",
    "plt.xlbale('Asse X')\n",
    "plt.ylabel('Asse Y')\n",
    "plt.title('Grafico a Dispersione')\n",
    "plt.show()"
   ]
  },
  {
   "cell_type": "code",
   "execution_count": null,
   "id": "d3331b14",
   "metadata": {},
   "outputs": [],
   "source": [
    "data = [3, 4, 2, 7, 5, 6, 8, 7, 6, 5, 4, 5, 6, 7, 4]\n",
    "\n",
    "plt.hist(data, bins=5, color='blue', alpha=0.7)\n",
    "plt.xlabel('Valore')\n",
    "plt.ylabel('Frequenza')\n",
    "plt.title('Istogramma')\n",
    "plt.show()"
   ]
  },
  {
   "cell_type": "code",
   "execution_count": 5,
   "id": "d0662b1e",
   "metadata": {},
   "outputs": [],
   "source": [
    "vettore_colonna = np.array([1, 2, 3, 4, 5])\n",
    "vettore_riga = np.array([1, 2, 3, 4, 5])\n",
    "matrix = np.array([[1, 2, 3], [4, 5, 6]])\n",
    "matrice_zeri = np.zeros((3, 3))\n",
    "matrice_identita = np.identity(3)\n",
    "matrice_identita = np.eye(3)"
   ]
  },
  {
   "cell_type": "code",
   "execution_count": 6,
   "id": "229f0506",
   "metadata": {},
   "outputs": [
    {
     "name": "stdout",
     "output_type": "stream",
     "text": [
      "[[ 1  2  3  4]\n",
      " [ 5  6  7  8]\n",
      " [ 9 10 11 12]]\n",
      "[[ 1  5  9]\n",
      " [ 2  6 10]\n",
      " [ 3  7 11]\n",
      " [ 4  8 12]]\n"
     ]
    }
   ],
   "source": [
    "matrix = np.array([[1, 2, 3, 4], [5, 6, 7, 8], [9, 10, 11, 12]])\n",
    "mat_t = matrix.T\n",
    "print(matrix)\n",
    "print(mat_t)"
   ]
  },
  {
   "cell_type": "code",
   "execution_count": null,
   "id": "9e3bf7c0",
   "metadata": {},
   "outputs": [],
   "source": [
    "A = np.array([[1,2], [3, 4]])\n",
    "B = np.array([[5, 6], [7, 8]])\n",
    "somma = A + B\n",
    "sott = A - B"
   ]
  }
 ],
 "metadata": {
  "kernelspec": {
   "display_name": ".venv",
   "language": "python",
   "name": "python3"
  },
  "language_info": {
   "codemirror_mode": {
    "name": "ipython",
    "version": 3
   },
   "file_extension": ".py",
   "mimetype": "text/x-python",
   "name": "python",
   "nbconvert_exporter": "python",
   "pygments_lexer": "ipython3",
   "version": "3.11.9"
  }
 },
 "nbformat": 4,
 "nbformat_minor": 5
}
